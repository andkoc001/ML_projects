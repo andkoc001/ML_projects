{
 "cells": [
  {
   "cell_type": "markdown",
   "metadata": {},
   "source": [
    "# Pandas Tutorial - Intro to DataFrames\n",
    "Tutorial by Joe James, https://youtu.be/e60ItwlZTKM"
   ]
  },
  {
   "cell_type": "code",
   "execution_count": 30,
   "metadata": {},
   "outputs": [],
   "source": [
    "import numpy as np\n",
    "import pandas as pd\n",
    "\n",
    "def header(msg):\n",
    "    print('\\n' + '[ ' + msg + ' ]')\n",
    "    print('-' * 50)"
   ]
  },
  {
   "cell_type": "markdown",
   "metadata": {},
   "source": [
    "### 1. Load hard-coded data into a dataframe"
   ]
  },
  {
   "cell_type": "code",
   "execution_count": 32,
   "metadata": {},
   "outputs": [
    {
     "name": "stdout",
     "output_type": "stream",
     "text": [
      "\n",
      "[ 1. Load hard-coded data into a df ]\n",
      "--------------------------------------------------\n"
     ]
    }
   ],
   "source": [
    "header(\"1. Load hard-coded data into a df\")\n",
    "df = pd.DataFrame(\n",
    "    [['Jan', 58, 42, 74, 22, 2.95],\n",
    "     ['Feb', 61, 45, 78, 26, 3.02],\n",
    "     ['Mar', 65, 48, 84, 25, 2.34],\n",
    "     ['Apr', 67, 50, 92, 28, 1.02],\n",
    "     ['May', 71, 53, 98, 35, 0.48],\n",
    "     ['Jun', 75, 56, 107, 41, 0.11],\n",
    "     ['Jul', 77, 58, 105, 44, 0.0],\n",
    "     ['Aug', 77, 59, 102, 43, 0.03],\n",
    "     ['Sep', 77, 57, 103, 40, 0.17],\n",
    "     ['Oct', 73, 54, 96, 34, 0.81],\n",
    "     ['Nov', 64, 48, 84, 30, 1.7],\n",
    "     ['Dec', 58, 42, 73, 21, 2.56]],\n",
    "    index = [0,1,2,3,4,5,6,7,8,9,10,11],\n",
    "    columns = ['month', 'avg_high', 'avg_low', 'record_high', 'record_low', 'avg_percip']\n",
    "    )"
   ]
  },
  {
   "cell_type": "markdown",
   "metadata": {},
   "source": [
    "### 2. Read data from text file into a dataframe\n",
    "Note: currently there is no text file, simply to keep my folder slim and tidy. First step with hard-coded date is used instead in the following exercises."
   ]
  },
  {
   "cell_type": "code",
   "execution_count": null,
   "metadata": {},
   "outputs": [],
   "source": [
    "header(\"2. Read data from file into a df\")\n",
    "# below two lines are commented out as txt file does not exist\n",
    "# filename = 'weather.txt'\n",
    "# df = pd.read_csv(filename)"
   ]
  },
  {
   "cell_type": "code",
   "execution_count": 33,
   "metadata": {},
   "outputs": [
    {
     "name": "stdout",
     "output_type": "stream",
     "text": [
      "   month  avg_high  avg_low  record_high  record_low  avg_percip\n",
      "0    Jan        58       42           74          22        2.95\n",
      "1    Feb        61       45           78          26        3.02\n",
      "2    Mar        65       48           84          25        2.34\n",
      "3    Apr        67       50           92          28        1.02\n",
      "4    May        71       53           98          35        0.48\n",
      "5    Jun        75       56          107          41        0.11\n",
      "6    Jul        77       58          105          44        0.00\n",
      "7    Aug        77       59          102          43        0.03\n",
      "8    Sep        77       57          103          40        0.17\n",
      "9    Oct        73       54           96          34        0.81\n",
      "10   Nov        64       48           84          30        1.70\n",
      "11   Dec        58       42           73          21        2.56\n"
     ]
    }
   ],
   "source": [
    "print(df)"
   ]
  },
  {
   "cell_type": "markdown",
   "metadata": {},
   "source": [
    "### 3. Print first 5 and last 3 rows of df"
   ]
  },
  {
   "cell_type": "code",
   "execution_count": 34,
   "metadata": {},
   "outputs": [
    {
     "name": "stdout",
     "output_type": "stream",
     "text": [
      "\n",
      "[ 3a. Print first 5 rows ]\n",
      "--------------------------------------------------\n",
      "  month  avg_high  avg_low  record_high  record_low  avg_percip\n",
      "0   Jan        58       42           74          22        2.95\n",
      "1   Feb        61       45           78          26        3.02\n",
      "2   Mar        65       48           84          25        2.34\n",
      "3   Apr        67       50           92          28        1.02\n",
      "4   May        71       53           98          35        0.48\n",
      "\n",
      "[ 3b. Print last 3 rows ]\n",
      "--------------------------------------------------\n",
      "   month  avg_high  avg_low  record_high  record_low  avg_percip\n",
      "9    Oct        73       54           96          34        0.81\n",
      "10   Nov        64       48           84          30        1.70\n",
      "11   Dec        58       42           73          21        2.56\n"
     ]
    }
   ],
   "source": [
    "header(\"3a. Print first 5 rows\")\n",
    "print(df.head())\n",
    "header(\"3b. Print last 3 rows\")\n",
    "print(df.tail(3))"
   ]
  },
  {
   "cell_type": "markdown",
   "metadata": {},
   "source": [
    "### 4. Get data types, index, columns, values"
   ]
  },
  {
   "cell_type": "code",
   "execution_count": 35,
   "metadata": {},
   "outputs": [
    {
     "name": "stdout",
     "output_type": "stream",
     "text": [
      "\n",
      "[ 4a. Get data types ]\n",
      "--------------------------------------------------\n",
      "month           object\n",
      "avg_high         int64\n",
      "avg_low          int64\n",
      "record_high      int64\n",
      "record_low       int64\n",
      "avg_percip     float64\n",
      "dtype: object\n",
      "\n",
      "[ 4b. Get index ]\n",
      "--------------------------------------------------\n",
      "Int64Index([0, 1, 2, 3, 4, 5, 6, 7, 8, 9, 10, 11], dtype='int64')\n",
      "\n",
      "[ 4c. Show columns ]\n",
      "--------------------------------------------------\n",
      "Index(['month', 'avg_high', 'avg_low', 'record_high', 'record_low',\n",
      "       'avg_percip'],\n",
      "      dtype='object')\n",
      "\n",
      "[ 4d. Show values ]\n",
      "--------------------------------------------------\n",
      "[['Jan' 58 42 74 22 2.95]\n",
      " ['Feb' 61 45 78 26 3.02]\n",
      " ['Mar' 65 48 84 25 2.34]\n",
      " ['Apr' 67 50 92 28 1.02]\n",
      " ['May' 71 53 98 35 0.48]\n",
      " ['Jun' 75 56 107 41 0.11]\n",
      " ['Jul' 77 58 105 44 0.0]\n",
      " ['Aug' 77 59 102 43 0.03]\n",
      " ['Sep' 77 57 103 40 0.17]\n",
      " ['Oct' 73 54 96 34 0.81]\n",
      " ['Nov' 64 48 84 30 1.7]\n",
      " ['Dec' 58 42 73 21 2.56]]\n"
     ]
    }
   ],
   "source": [
    "header(\"4a. Get data types\")\n",
    "print(df.dtypes)\n",
    "header(\"4b. Get index\")\n",
    "print(df.index)\n",
    "header(\"4c. Show columns\")\n",
    "print(df.columns)\n",
    "header(\"4d. Show values\")\n",
    "print(df.values)"
   ]
  },
  {
   "cell_type": "markdown",
   "metadata": {},
   "source": [
    "### 5. Statistical summary pf each column"
   ]
  },
  {
   "cell_type": "code",
   "execution_count": 36,
   "metadata": {},
   "outputs": [
    {
     "name": "stdout",
     "output_type": "stream",
     "text": [
      "\n",
      "[ 5. df.describe() - statistical summary ]\n",
      "--------------------------------------------------\n",
      "        avg_high    avg_low  record_high  record_low  avg_percip\n",
      "count  12.000000  12.000000    12.000000   12.000000   12.000000\n",
      "mean   68.583333  51.000000    91.333333   32.416667    1.265833\n",
      "std     7.366488   6.060303    12.323911    8.240238    1.186396\n",
      "min    58.000000  42.000000    73.000000   21.000000    0.000000\n",
      "25%    63.250000  47.250000    82.500000   25.750000    0.155000\n",
      "50%    69.000000  51.500000    94.000000   32.000000    0.915000\n",
      "75%    75.500000  56.250000   102.250000   40.250000    2.395000\n",
      "max    77.000000  59.000000   107.000000   44.000000    3.020000\n"
     ]
    }
   ],
   "source": [
    "header(\"5. df.describe() - statistical summary\")\n",
    "print(df.describe())"
   ]
  },
  {
   "cell_type": "markdown",
   "metadata": {},
   "source": [
    "### 6. Sort records by any column"
   ]
  },
  {
   "cell_type": "code",
   "execution_count": 39,
   "metadata": {},
   "outputs": [
    {
     "name": "stdout",
     "output_type": "stream",
     "text": [
      "\n",
      "[ 6. df.sort_values('record_high', 'ascending=False') ]\n",
      "--------------------------------------------------\n",
      "   month  avg_high  avg_low  record_high  record_low  avg_percip\n",
      "5    Jun        75       56          107          41        0.11\n",
      "6    Jul        77       58          105          44        0.00\n",
      "8    Sep        77       57          103          40        0.17\n",
      "7    Aug        77       59          102          43        0.03\n",
      "4    May        71       53           98          35        0.48\n",
      "9    Oct        73       54           96          34        0.81\n",
      "3    Apr        67       50           92          28        1.02\n",
      "2    Mar        65       48           84          25        2.34\n",
      "10   Nov        64       48           84          30        1.70\n",
      "1    Feb        61       45           78          26        3.02\n",
      "0    Jan        58       42           74          22        2.95\n",
      "11   Dec        58       42           73          21        2.56\n"
     ]
    }
   ],
   "source": [
    "header(\"6. df.sort_values('record_high', 'ascending=False')\")\n",
    "print(df.sort_values('record_high', ascending=False))"
   ]
  },
  {
   "cell_type": "markdown",
   "metadata": {},
   "source": [
    "### 7. Slicing records"
   ]
  },
  {
   "cell_type": "code",
   "execution_count": 74,
   "metadata": {},
   "outputs": [
    {
     "name": "stdout",
     "output_type": "stream",
     "text": [
      "\n",
      "[ 7a. Slicing with rows 2 to 3 - df[2:4] ]\n",
      "--------------------------------------------------\n",
      "  month  avg_high  avg_low  record_high  record_low  avg_percip\n",
      "2   Mar        65       48           84          25        2.34\n",
      "3   Apr        67       50           92          28        1.02\n",
      "\n",
      "[ 7b. Slicing with single named column - df['avg_low'] ]\n",
      "--------------------------------------------------\n",
      "0     42\n",
      "1     45\n",
      "2     48\n",
      "3     50\n",
      "4     53\n",
      "5     56\n",
      "6     58\n",
      "7     59\n",
      "8     57\n",
      "9     54\n",
      "10    48\n",
      "11    42\n",
      "Name: avg_low, dtype: int64\n",
      "\n",
      "[ 7c. Slicing with single named column - df.avg_low - the same as above ]\n",
      "--------------------------------------------------\n",
      "\n",
      "[ 7d. Slicing with two named columns - df[['avg_low','record_low']] ]\n",
      "--------------------------------------------------\n",
      "    avg_low  record_low\n",
      "0        42          22\n",
      "1        45          26\n",
      "2        48          25\n",
      "3        50          28\n",
      "4        53          35\n",
      "5        56          41\n",
      "6        58          44\n",
      "7        59          43\n",
      "8        57          40\n",
      "9        54          34\n",
      "10       48          30\n",
      "11       42          21\n",
      "\n",
      "[ 7e. Slicing with 'loc' - range of rows and columns - df.loc[0:2, ['avg_low', 'avg_high']] ]\n",
      "--------------------------------------------------\n",
      "  month  avg_high\n",
      "0   Jan        58\n",
      "1   Feb        61\n",
      "2   Mar        65\n",
      "\n",
      "[ 7f. Slicing with 'loc' single cell - df.loc[2, 'month'] ]\n",
      "--------------------------------------------------\n",
      "Mar\n",
      "\n",
      "[ 7g. Slicing with 'iloc' single cell - df.iloc[3, 0] ]\n",
      "--------------------------------------------------\n",
      "Apr\n",
      "\n",
      "[ 7h. Slicing with 'iloc' range of cells - df.iloc[0:3, 0:4] ]\n",
      "--------------------------------------------------\n",
      "  month  avg_high  avg_low  record_high\n",
      "0   Jan        58       42           74\n",
      "1   Feb        61       45           78\n",
      "2   Mar        65       48           84\n",
      "\n",
      "[ 7i. Slicing with 'iloc' selected cols - df.iloc[0:3, [0,4]] ]\n",
      "--------------------------------------------------\n",
      "  month  record_low\n",
      "0   Jan          22\n",
      "1   Feb          26\n",
      "2   Mar          25\n"
     ]
    }
   ],
   "source": [
    "header(\"7a. Slicing with rows 2 to 3 - df[2:4]\")\n",
    "print(df[2:4])\n",
    "\n",
    "header(\"7b. Slicing with single named column - df['avg_low']\") \n",
    "print(df['avg_low'])\n",
    "\n",
    "header(\"7c. Slicing with single named column - df.avg_low - the same as above\")\n",
    "# print(df.avg_low)\n",
    "\n",
    "header(\"7d. Slicing with two named columns - df[['avg_low','record_low']]\") \n",
    "print(df[['avg_low','record_low']]) # double square brackets!\n",
    "\n",
    "# df.loc - seeks for names of cols\n",
    "header(\"7e. Slicing with 'loc' - range of rows and columns - df.loc[0:2, ['avg_low', 'avg_high']]\")\n",
    "print(df.loc[0:2, ['month', 'avg_high']]) # list of cols\n",
    "\n",
    "header(\"7f. Slicing with 'loc' single cell - df.loc[2, 'month']\")\n",
    "print(df.loc[2, 'month'])\n",
    "\n",
    "# df.iloc - seeks for cols indices\n",
    "header(\"7g. Slicing with 'iloc' single cell - df.iloc[3, 0]\")\n",
    "print(df.iloc[3, 0])\n",
    "\n",
    "header(\"7h. Slicing with 'iloc' range of cells - df.iloc[0:3, 0:4]\") # range of cols\n",
    "print(df.iloc[0:3, 0:4])\n",
    "\n",
    "header(\"7i. Slicing with 'iloc' selected cols - df.iloc[0:3, [0,4]]\") # selected (list of) cols\n",
    "print(df.iloc[0:3, [0,4]])"
   ]
  },
  {
   "cell_type": "markdown",
   "metadata": {},
   "source": [
    "### 8. Filtering data"
   ]
  },
  {
   "cell_type": "code",
   "execution_count": 81,
   "metadata": {},
   "outputs": [
    {
     "name": "stdout",
     "output_type": "stream",
     "text": [
      "\n",
      "[ 8a. Filter on column values - df.df['avg_percip'] > 2.0 or df[df.avg_percip > 2.0] ]\n",
      "--------------------------------------------------\n",
      "   month  avg_high  avg_low  record_high  record_low  avg_percip\n",
      "0    Jan        58       42           74          22        2.95\n",
      "1    Feb        61       45           78          26        3.02\n",
      "2    Mar        65       48           84          25        2.34\n",
      "11   Dec        58       42           73          21        2.56\n",
      "\n",
      "[ 8b. Filter on specific value - df[df['month'].isin(['Jun', 'Jul', 'Aug'])] ]\n",
      "--------------------------------------------------\n",
      "  month  avg_high  avg_low  record_high  record_low  avg_percip\n",
      "5   Jun        75       56          107          41        0.11\n",
      "6   Jul        77       58          105          44        0.00\n",
      "7   Aug        77       59          102          43        0.03\n"
     ]
    }
   ],
   "source": [
    "header(\"8a. Filter on column values - df.df['avg_percip'] > 2.0 or df[df.avg_percip > 2.0]\") \n",
    "print(df[df['avg_percip'] > 2.0])\n",
    "# print(df[df.avg_percip > 2.0])\n",
    "\n",
    "header(\"8b. Filter on specific value - df[df['month'].isin(['Jun', 'Jul', 'Aug'])]\")\n",
    "print(df[df['month'].isin(['Jun', 'Jul', 'Aug'])]) # list of sought values "
   ]
  },
  {
   "cell_type": "markdown",
   "metadata": {},
   "source": [
    "### 9. Assignment (modifying; overwriting)"
   ]
  },
  {
   "cell_type": "code",
   "execution_count": 91,
   "metadata": {},
   "outputs": [
    {
     "name": "stdout",
     "output_type": "stream",
     "text": [
      "\n",
      "[ 9a. Overwrite specific cell value - df.loc[0, ['avg_percip']] = 222 ]\n",
      "--------------------------------------------------\n",
      "  month  avg_high  avg_low  record_high  record_low  avg_percip\n",
      "0   Jan        58        5           74          22      222.00\n",
      "1   Feb        61        5           78          26        3.02\n",
      "2   Mar        65        5           84          25        2.34\n",
      "\n",
      "[ ba. Remove specific cell value (NaN) - df.loc[0, ['avg_percip']] = np.nan ]\n",
      "--------------------------------------------------\n",
      "  month  avg_high  avg_low  record_high  record_low  avg_percip\n",
      "0   Jan        58        5           74          22         NaN\n",
      "1   Feb        61        5           78          26        3.02\n",
      "2   Mar        65        5           84          25        2.34\n",
      "\n",
      "[ 9c. Overwrite entire col - df.loc[:, ['avg_low']] = np.array([5] * len(df)) ]\n",
      "--------------------------------------------------\n",
      "  month  avg_high  avg_low  record_high  record_low  avg_percip\n",
      "0   Jan        58        5           74          22         NaN\n",
      "1   Feb        61        5           78          26        3.02\n",
      "2   Mar        65        5           84          25        2.34\n",
      "\n",
      "[ 9d. Create a new column - df['avg_day'] = (df.avg_low + df.avg_high) / 2  ]\n",
      "--------------------------------------------------\n",
      "  month  avg_high  avg_low  record_high  record_low  avg_percip  avg_day\n",
      "0   Jan        58        5           74          22         NaN     31.5\n",
      "1   Feb        61        5           78          26        3.02     33.0\n",
      "2   Mar        65        5           84          25        2.34     35.0\n"
     ]
    }
   ],
   "source": [
    "header(\"9a. Overwrite specific cell value - df.loc[0, ['avg_percip']] = 222\")\n",
    "df.loc[0, ['avg_percip']] = 222 # float!\n",
    "print(df.iloc[0:3])\n",
    "\n",
    "header(\"ba. Remove specific cell value (NaN) - df.loc[0, ['avg_percip']] = np.nan\")\n",
    "df.loc[0, ['avg_percip']] = np.nan # NumPy\n",
    "print(df.iloc[0:3])\n",
    "\n",
    "header(\"9c. Overwrite entire col - df.loc[:, ['avg_low']] = np.array([5] * len(df))\")\n",
    "df.loc[:, ['avg_low']] = np.array([5] * len(df)) # '5' is assigned to each row (len(df))\n",
    "print(df.iloc[0:3])\n",
    "\n",
    "header(\"9d. Create a new column - df['avg_day'] = (df.avg_low + df.avg_high) / 2 \")\n",
    "df['avg_day'] = (df.avg_low + df.avg_high) / 2 \n",
    "print(df.iloc[0:3])\n"
   ]
  },
  {
   "cell_type": "markdown",
   "metadata": {},
   "source": [
    "### 10. Renaming columns"
   ]
  },
  {
   "cell_type": "code",
   "execution_count": 106,
   "metadata": {},
   "outputs": [
    {
     "name": "stdout",
     "output_type": "stream",
     "text": [
      "\n",
      "[ 10a. Rename columns - df.rename(columns = {'avg_percip':'avg_rain'}, inplace=True) ]\n",
      "--------------------------------------------------\n",
      "     m  av_hi  av_lo  r_hi  r_lo  av_p  av_d\n",
      "0  Jan     58      5    74    22   NaN  31.5\n",
      "1  Feb     61      5    78    26  3.02  33.0\n",
      "\n",
      "[ 10b. List of new (all) columns names - df.columns = {'m','av_hi','av_lo','r_hi','r_lo','av_p'}, inplace=True) ]\n",
      "--------------------------------------------------\n",
      "     m  av_hi  av_lo  r_hi  r_lo  av_p  av_d\n",
      "0  Jan     58      5    74    22   NaN  31.5\n",
      "1  Feb     61      5    78    26  3.02  33.0\n"
     ]
    }
   ],
   "source": [
    "header(\"10a. Rename columns - df.rename(columns = {'avg_percip':'avg_rain'}, inplace=True)\")\n",
    "df.rename(columns = {'avg_percip':'avg_rain'}, inplace=True)\n",
    "# df = df.rename(columns = {'avg_percip':'avg_rain'}) # equivalent to the above\n",
    "print(df.head(2))\n",
    "\n",
    "header(\"10b. List of new (all) columns names - df.columns = {'m','av_hi','av_lo','r_hi','r_lo','av_p'}, inplace=True)\")\n",
    "df.columns = ['m','av_hi','av_lo','r_hi','r_lo','av_p','av_d'] # all column names must be given\n",
    "print(df.head(2))"
   ]
  },
  {
   "cell_type": "markdown",
   "metadata": {},
   "source": [
    "### 11. Iterate with 'for' loop"
   ]
  },
  {
   "cell_type": "code",
   "execution_count": 107,
   "metadata": {},
   "outputs": [
    {
     "name": "stdout",
     "output_type": "stream",
     "text": [
      "\n",
      "[ 11. Iterate rows of df with a 'for' loop ]\n",
      "--------------------------------------------------\n",
      "0 Jan 58\n",
      "1 Feb 61\n",
      "2 Mar 65\n",
      "3 Apr 67\n",
      "4 May 71\n",
      "5 Jun 75\n",
      "6 Jul 77\n",
      "7 Aug 77\n",
      "8 Sep 77\n",
      "9 Oct 73\n",
      "10 Nov 64\n",
      "11 Dec 58\n"
     ]
    }
   ],
   "source": [
    "header(\"11. Iterate rows of df with a 'for' loop\")\n",
    "# note: there is a built in function usually better than 'for' loop\n",
    "for index, row in df.iterrows():\n",
    "    print(index, row['m'], row['av_hi'])"
   ]
  },
  {
   "cell_type": "markdown",
   "metadata": {},
   "source": [
    "### 12. Write df to a .csv file"
   ]
  },
  {
   "cell_type": "code",
   "execution_count": 108,
   "metadata": {},
   "outputs": [],
   "source": [
    "# df.to_csv('foo.csv')"
   ]
  },
  {
   "cell_type": "markdown",
   "metadata": {},
   "source": [
    "2020, AK"
   ]
  }
 ],
 "metadata": {
  "kernelspec": {
   "display_name": "Python 3",
   "language": "python",
   "name": "python3"
  },
  "language_info": {
   "codemirror_mode": {
    "name": "ipython",
    "version": 3
   },
   "file_extension": ".py",
   "mimetype": "text/x-python",
   "name": "python",
   "nbconvert_exporter": "python",
   "pygments_lexer": "ipython3",
   "version": "3.7.5"
  }
 },
 "nbformat": 4,
 "nbformat_minor": 2
}
