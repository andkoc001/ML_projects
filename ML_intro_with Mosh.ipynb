{
 "cells": [
  {
   "cell_type": "markdown",
   "metadata": {},
   "source": [
    "# Machine Learning - introductory project - based on Programming with Mosh course\n",
    "\n",
    ">Author: **Andrzej Kocielski**  \n",
    "Github: [andkoc001](https://github.com/andkoc001/)  \n",
    "Email: G00376291@gmit.ie, and.koc001@gmail.com\n",
    "\n",
    "Created: 24-12-2019\n",
    "\n",
    "This Notebook should be read in conjunction with the corresponding README.md file at the project [repository](https://github.com/andkoc001/) at GitHub."
   ]
  },
  {
   "cell_type": "markdown",
   "metadata": {},
   "source": [
    "___\n",
    "\n",
    "## Introduction - project background"
   ]
  },
  {
   "cell_type": "markdown",
   "metadata": {},
   "source": [
    "### Problem statement and project objectives\n",
    "\n",
    "Purpose: _to be updated..._"
   ]
  },
  {
   "cell_type": "markdown",
   "metadata": {},
   "source": [
    "___\n",
    "## Project data"
   ]
  },
  {
   "cell_type": "markdown",
   "metadata": {},
   "source": [
    "### Python environment setup "
   ]
  },
  {
   "cell_type": "markdown",
   "metadata": {},
   "source": [
    "#### Importing Python libraries\n",
    "\n",
    "The following Python libraries were used in synthesising the dataset variables."
   ]
  },
  {
   "cell_type": "code",
   "execution_count": 1,
   "metadata": {},
   "outputs": [],
   "source": [
    "import numpy as np\n",
    "import pandas as pd\n",
    "import matplotlib.pyplot as plt \n",
    "import seaborn as sns\n",
    "import scipy.stats as stats\n",
    "# below command will allow for the plots being displayed inside the Notebook, rather than in a separate screen.\n",
    "%matplotlib inline"
   ]
  },
  {
   "cell_type": "markdown",
   "metadata": {},
   "source": [
    "___\n",
    "## References and bibliography \n",
    "\n",
    "### Project related\n",
    "\n",
    "- Hamedani, M., The Complete Python Course [online] Available at: <https://codewithmosh.com/courses/> [Accessed December 2019]\n",
    "\n",
    "\n",
    "### Numerical tools\n",
    "\n",
    "- SciPy - Reference Guide. [online] Available at: <https://docs.scipy.org/doc/scipy/reference/> [Accessed December 2019].\n",
    "- NumPy - Documentation. [online] Available at: <https://numpy.org/doc/> [Accessed December 2019].\n",
    "- Pandas - Documentation. [online] Available at: <https://pandas.pydata.org/pandas-docs/stable/> [Accessed November 2019].\n",
    "- Random sampling (numpy.random) - NumPy v1.16 Manual. [online] Available at: <https://docs.scipy.org/doc/numpy-1.16.0/reference/routines.random.html> [Accessed November 2019].\n",
    "- A truncated normal continuous random variable (scipy.stats.truncnorm) - SciPy v1.3.3 Reference Guide. [online] Available at: <https://docs.scipy.org/doc/scipy/reference/generated/scipy.stats.truncnorm.html> [Accessed December 2019]."
   ]
  },
  {
   "cell_type": "markdown",
   "metadata": {},
   "source": [
    "___\n",
    "Andrzej Kocielski"
   ]
  }
 ],
 "metadata": {
  "kernelspec": {
   "display_name": "Python 3",
   "language": "python",
   "name": "python3"
  },
  "language_info": {
   "codemirror_mode": {
    "name": "ipython",
    "version": 3
   },
   "file_extension": ".py",
   "mimetype": "text/x-python",
   "name": "python",
   "nbconvert_exporter": "python",
   "pygments_lexer": "ipython3",
   "version": "3.7.5"
  }
 },
 "nbformat": 4,
 "nbformat_minor": 4
}
