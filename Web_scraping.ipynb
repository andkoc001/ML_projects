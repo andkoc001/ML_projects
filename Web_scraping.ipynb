{
 "cells": [
  {
   "cell_type": "markdown",
   "metadata": {},
   "source": [
    "# Web scraping\n",
    "\n",
    "Andrzej Kocielski, 02.05.2021"
   ]
  },
  {
   "cell_type": "markdown",
   "metadata": {},
   "source": [
    "## Intro to Web Scraping with Beautiful Soup\n",
    "Based on tutorial at https://youtu.be/XQgXKtPSzUI"
   ]
  },
  {
   "cell_type": "code",
   "execution_count": 4,
   "metadata": {},
   "outputs": [],
   "source": [
    "# Importing the libraries\n",
    "import bs4 # Beautiful Soup\n",
    "from bs4 import BeautifulSoup as soup\n",
    "from urllib.request import urlopen as url_req # for opening and reading URLs from Python Standard Library"
   ]
  },
  {
   "cell_type": "code",
   "execution_count": 5,
   "metadata": {},
   "outputs": [],
   "source": [
    "# set the URL\n",
    "my_url = 'https://www.newegg.com/Video-Cards-Video-Devices/Category/ID-38'\n",
    "\n",
    "# make the connection, call the funtion urlopen with my_url as a parameter\n",
    "url_client = url_req(my_url)\n",
    "\n",
    "# read the webpage\n",
    "page_html = url_client.read()\n",
    "\n",
    "# close the connection\n",
    "url_client.close()"
   ]
  },
  {
   "cell_type": "code",
   "execution_count": 6,
   "metadata": {},
   "outputs": [],
   "source": [
    "# parse the html page\n",
    "page_soup = soup(page_html, \"html.parser\")"
   ]
  },
  {
   "cell_type": "code",
   "execution_count": 30,
   "metadata": {},
   "outputs": [
    {
     "name": "stdout",
     "output_type": "stream",
     "text": [
      "<h1 class=\"page-title-text\">Video Cards &amp; Video Devices</h1>\n",
      "\n",
      "[<h2 class=\"standard-box-top-title\">Shop Video Cards</h2>, <h2 class=\"standard-box-top-title\">Video Cards &amp; Video Devices<!-- --> Featured Items</h2>, <h2 class=\"article-title-third\">Video Cards Upgrade Your Graphics and Prevent Latency</h2>, <h2 class=\"article-title-third\">Customized Cards Suit Your Needs</h2>, <h2 class=\"article-title-third\">Video Card Accessories Enhance Your Experience</h2>]\n",
      "\n"
     ]
    }
   ],
   "source": [
    "# sneak peek at the page code\n",
    "\n",
    "# the entire page, commented out for clarity\n",
    "# print(page_soup.prettify())\n",
    "\n",
    "# first H1 header\n",
    "print(page_soup.h1)\n",
    "print()\n",
    "\n",
    "# H2 header\n",
    "print(page_soup.find_all('h2'))\n",
    "print()"
   ]
  },
  {
   "cell_type": "code",
   "execution_count": 35,
   "metadata": {},
   "outputs": [
    {
     "data": {
      "text/plain": [
       "12"
      ]
     },
     "execution_count": 35,
     "metadata": {},
     "output_type": "execute_result"
    }
   ],
   "source": [
    "# find all objects with a specific class name (within the html)\n",
    "# print(page_soup.find_all(\"div\", {\"class\":\"item-cell\"}))\n",
    "\n",
    "# assign the findings to a variable\n",
    "containers = page_soup.find_all(\"div\", {\"class\":\"item-cell\"})\n",
    "\n",
    "# check the number of containers (found items)\n",
    "len(containers)"
   ]
  },
  {
   "cell_type": "code",
   "execution_count": 50,
   "metadata": {},
   "outputs": [
    {
     "data": {
      "text/plain": [
       "'PowerColor'"
      ]
     },
     "execution_count": 50,
     "metadata": {},
     "output_type": "execute_result"
    }
   ],
   "source": [
    "# check the first item\n",
    "# containers[0].prettify()\n",
    "\n",
    "# get the manufacturer's name (it is the title of the logo image)\n",
    "# containers[0].div.div.a.img\n",
    "containers[0].div.div.a.img[\"title\"]"
   ]
  },
  {
   "cell_type": "code",
   "execution_count": 90,
   "metadata": {},
   "outputs": [
    {
     "name": "stdout",
     "output_type": "stream",
     "text": [
      "item no: 1\n",
      "brand: PowerColor\n",
      "name: PowerColor Red Devil AMD Radeon RX 6900 XT Ultimate Gaming Graphics Card with 16GB GDDR6 Memory, Powered by AMD RDNA 2, HDMI 2.1 (AXRX 6900XTU 16GBD6-3DHE/OC)\n",
      "shipping: $9.99 Shipping\n",
      "\n",
      "item no: 2\n",
      "brand: PowerColor\n",
      "name: PowerColor Liquid Devil AMD Radeon RX 6900 XT Ultimate Gaming Graphics Card with 16GB GDDR6 Memory, Powered by AMD RDNA 2, HDMI 2.1 (AXRX 6900XTU 16GBD6-W2DHC/OC)\n",
      "shipping: \n",
      "\n",
      "item no: 3\n",
      "brand: EVGA\n",
      "name: EVGA GeForce RTX 3060 XC BLACK GAMING, 12G-P5-3655-KR, 12GB GDDR6, Dual-Fan\n",
      "shipping: $9.99 Shipping\n",
      "\n",
      "item no: 4\n",
      "brand: GIGABYTE\n",
      "name: GIGABYTE GeForce RTX 3060 EAGLE 12G Graphics Card, 2 x WINDFORCE Fans, 12GB 192-bit GDDR6, GV-N3060EAGLE-12GD Video Card\n",
      "shipping: $9.99 Shipping\n",
      "\n",
      "item no: 5\n",
      "brand: MSI\n",
      "name: MSI Ventus GeForce RTX 3060 Video Card RTX 3060 VENTUS 2X 12G\n",
      "shipping: $9.99 Shipping\n",
      "\n",
      "item no: 6\n",
      "brand: GIGABYTE\n",
      "name: GIGABYTE GeForce RTX 3060 GAMING OC 12G Graphics Card, 3 x WINDFORCE Fans, 12GB 192-bit GDDR6, GV-N3060GAMING OC-12GD Video Card\n",
      "shipping: $9.99 Shipping\n",
      "\n",
      "item no: 7\n",
      "brand: ASUS\n",
      "name: ASUS Dual GeForce RTX 3060 DirectX 12 Ultimate DUAL-RTX3060-12G Video Card\n",
      "shipping: $9.99 Shipping\n",
      "\n",
      "item no: 8\n",
      "brand: ASUS\n",
      "name: ASUS TUF Gaming GeForce RTX 3080 DirectX 12 TUF-RTX3080-O10G-GAMING Video Card\n",
      "shipping: $9.99 Shipping\n",
      "\n",
      "item no: 9\n",
      "brand: PNY Technologies, Inc.\n",
      "name: PNY GeForce RTX 3080 10GB XLR8 Gaming REVEL EPIC-X RGB Triple Fan Graphics Card, VCG308010TFXPPB\n",
      "shipping: \n",
      "\n",
      "item no: 10\n",
      "brand: MSI\n",
      "name: MSI Suprim GeForce RTX 3090 Video Card RTX 3090 SUPRIM X 24G\n",
      "shipping: $9.99 Shipping\n",
      "\n",
      "item no: 11\n",
      "brand: GIGABYTE\n",
      "name: GIGABYTE AORUS GeForce RTX 3080 XTREME WATERFORCE 10GB Video Card, GV-N3080AORUSX W-10GD\n",
      "shipping: $9.99 Shipping\n",
      "\n",
      "item no: 12\n",
      "brand: XFX\n",
      "name: XFX SPEEDSTER QICK319 AMD Radeon RX 6700 XT CORE Gaming Graphics Card with 12GB GDDR6 HDMI 3xDP, AMD RDNA 2 (RX-67XTYLUDP)\n",
      "shipping: \n",
      "\n"
     ]
    }
   ],
   "source": [
    "# loop through the items in containers\n",
    "\n",
    "counter = 0\n",
    "for container in containers:\n",
    "        \n",
    "    brand = container.div.div.a.img[\"title\"]\n",
    "    # print(brand) # for testing\n",
    "    \n",
    "    title_container = container.find_all(\"a\", {\"class\":\"item-title\"})\n",
    "    # title_container # as an array (one-element array in this case)\n",
    "    # title_container[0] # as value of the first (and only in this case) element of the array\n",
    "    product_name = title_container[0].text # removes the html tags\n",
    "    \n",
    "    shipping_container = container.find_all(\"li\", {\"class\":\"price-ship\"})\n",
    "    shipping = shipping_container[0].text.strip()\n",
    "    \n",
    "    counter += 1\n",
    "    print(\"item no:\", counter)\n",
    "    print(\"brand: \"+ brand)\n",
    "    print(\"name: \"+ product_name)\n",
    "    print(\"shipping: \"+ shipping)\n",
    "    print()    "
   ]
  },
  {
   "cell_type": "code",
   "execution_count": 94,
   "metadata": {},
   "outputs": [],
   "source": [
    "# save the output the a file\n",
    "\n",
    "filename = \"prodcuts.csv\"\n",
    "f = open(filename, \"w\")\n",
    "\n",
    "headers = \"brand, product_name, shipping\\n\"\n",
    "\n",
    "f.write(headers)\n",
    "\n",
    "for container in containers:\n",
    "    brand = container.div.div.a.img[\"title\"]\n",
    "    \n",
    "    title_container = container.find_all(\"a\", {\"class\":\"item-title\"})\n",
    "    product_name = title_container[0].text # removes the html tags\n",
    "    \n",
    "    shipping_container = container.find_all(\"li\", {\"class\":\"price-ship\"})\n",
    "    shipping = shipping_container[0].text.strip()\n",
    "    \n",
    "    f.write(brand.replace(\",\", \"\") + \",\" + product_name.replace(\",\", \"|\") + \",\" + shipping + \"\\n\") # on the fly replaces comas inside the text\n",
    "    \n",
    "f.close()"
   ]
  },
  {
   "cell_type": "code",
   "execution_count": null,
   "metadata": {},
   "outputs": [],
   "source": []
  }
 ],
 "metadata": {
  "kernelspec": {
   "display_name": "Python 3",
   "language": "python",
   "name": "python3"
  },
  "language_info": {
   "codemirror_mode": {
    "name": "ipython",
    "version": 3
   },
   "file_extension": ".py",
   "mimetype": "text/x-python",
   "name": "python",
   "nbconvert_exporter": "python",
   "pygments_lexer": "ipython3",
   "version": "3.7.9"
  }
 },
 "nbformat": 4,
 "nbformat_minor": 4
}
