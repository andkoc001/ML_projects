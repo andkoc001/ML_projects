{
 "cells": [
  {
   "cell_type": "markdown",
   "metadata": {},
   "source": [
    "# Linear regression\n",
    "This notebook is to practice and experiment with linear regression. \n",
    "> Author: Andrzej Kocielski  \n",
    "> Created: 07-10-2019"
   ]
  },
  {
   "cell_type": "markdown",
   "metadata": {},
   "source": [
    "## Importing packages"
   ]
  },
  {
   "cell_type": "code",
   "execution_count": 19,
   "metadata": {},
   "outputs": [],
   "source": [
    "import numpy as np\n",
    "import matplotlib.pyplot as plt"
   ]
  },
  {
   "cell_type": "markdown",
   "metadata": {},
   "source": [
    "## Acquiring data\n"
   ]
  },
  {
   "cell_type": "markdown",
   "metadata": {},
   "source": [
    "Here, I am going to generate some data points to be projected on 2-dimensional plane (x, y). The data points will be organised in a form of a linar funtion, as per the following equation:\n",
    "$$ y = mx + c $$\n",
    "\n",
    "First, I am generating several x points. These will be independable variables. I am using `np.arange()` to get the variables."
   ]
  },
  {
   "cell_type": "code",
   "execution_count": 20,
   "metadata": {},
   "outputs": [],
   "source": [
    "# Generating x-variables from 0.0 to 5 and incremented by 0.5\n",
    "var_x = np.arange(0.0, 5.1, 0.5) # as a result var_x = array([0. , 0.5, 1. , 1.5, 2. , 2.5, 3. , 3.5, 4. , 4.5, 5. ])"
   ]
  },
  {
   "cell_type": "markdown",
   "metadata": {},
   "source": [
    "Now, I am going to generate corresponding dependable variables. $$ y = f(x) $$"
   ]
  },
  {
   "cell_type": "code",
   "execution_count": 22,
   "metadata": {},
   "outputs": [],
   "source": [
    "# Assigning data points (y-variables), corresponding to x-variables.\n",
    "var_y = 3.0 * var_x + 1 # as a result var_y = array([ 1. ,  2.5,  4. ,  5.5,  7. ,  8.5, 10. , 11.5, 13. , 14.5, 16. ])"
   ]
  },
  {
   "cell_type": "markdown",
   "metadata": {},
   "source": [
    "Now, let's visualise the data points on the below plot, paired as (x,y)."
   ]
  },
  {
   "cell_type": "code",
   "execution_count": 25,
   "metadata": {},
   "outputs": [
    {
     "data": {
      "text/plain": [
       "[<matplotlib.lines.Line2D at 0x7fa92c43b128>]"
      ]
     },
     "execution_count": 25,
     "metadata": {},
     "output_type": "execute_result"
    },
    {
     "data": {
      "image/png": "[encoded data removed]",
      "text/plain": [
       "<Figure size 432x288 with 1 Axes>"
      ]
     },
     "metadata": {
      "needs_background": "light"
     },
     "output_type": "display_data"
    }
   ],
   "source": [
    "plt.plot(var_x, var_y, 'k+')"
   ]
  },
  {
   "cell_type": "markdown",
   "metadata": {},
   "source": [
    "Below, I am using function `polyfit` from Numpy package. It has the following syntax (verbatim from Numpy [documentation](https://docs.scipy.org/doc/numpy/reference/generated/numpy.polyfit.html)):  \n",
    "`numpy.polyfit(x, y, deg, rcond=None, full=False, w=None, cov=False)`.  \n",
    "It fits a polynomial p(x) = p[0] * x**deg + ... + p[deg] of degree deg to points (x, y). Returns a vector of coefficients p that minimises the squared error in the order deg, deg-1, … 0."
   ]
  },
  {
   "cell_type": "markdown",
   "metadata": {},
   "source": [
    "Funtion `np.polyfit` determines a polynomial of declared degree to fit the dataset (more precisely, the funtion least squares polynomial fit). Let's try it out now for two first data points (in this case it is sufficient)."
   ]
  },
  {
   "cell_type": "code",
   "execution_count": 33,
   "metadata": {},
   "outputs": [
    {
     "data": {
      "text/plain": [
       "array([3., 1.])"
      ]
     },
     "execution_count": 33,
     "metadata": {},
     "output_type": "execute_result"
    }
   ],
   "source": [
    "np.polyfit(var_x[0:2], var_y[0:2], 1) # the third parameter is declared degree of the polynomial; 1 - linear, 2 - quadratic, etc."
   ]
  },
  {
   "cell_type": "markdown",
   "metadata": {},
   "source": [
    "The above data set is an mathematical model of observations. In reality, however, each measurement carries an error. It is chaotic in nature and is difficult to capture the value of the error. Specifically, the value of the error may be equal to zero. It may be referred as to a noise. It is denoted in mathematical equations as an additional element, $ \\epsilon $. Hence, a linear equation takes the following form.\n",
    "$$ y = mx + c + \\epsilon $$\n",
    "\n",
    "Below we will simulate the error by a random number, using `np.random.normal()` funtion."
   ]
  },
  {
   "cell_type": "code",
   "execution_count": 36,
   "metadata": {},
   "outputs": [],
   "source": [
    "eps = np.random.normal(0.0, 1.0, len(var_x))"
   ]
  },
  {
   "cell_type": "markdown",
   "metadata": {},
   "source": [
    "So, the new equation definiton looks as below."
   ]
  },
  {
   "cell_type": "code",
   "execution_count": 37,
   "metadata": {},
   "outputs": [],
   "source": [
    "var_y = 3.0 * var_x + 1 + eps"
   ]
  },
  {
   "cell_type": "markdown",
   "metadata": {},
   "source": [
    "Now, lets see how funtion `np.polyfit` will respond to the new data set, that is what **linear regression** will look like."
   ]
  },
  {
   "cell_type": "code",
   "execution_count": 41,
   "metadata": {},
   "outputs": [],
   "source": [
    "a = np.polyfit(var_x, var_y, 1) # a name 'a' assigned to this, so it can be used later"
   ]
  },
  {
   "cell_type": "code",
   "execution_count": 52,
   "metadata": {},
   "outputs": [
    {
     "data": {
      "text/plain": [
       "[<matplotlib.lines.Line2D at 0x7fa92c28d438>]"
      ]
     },
     "execution_count": 52,
     "metadata": {},
     "output_type": "execute_result"
    },
    {
     "data": {
      "image/png": "[encoded data removed]",
      "text/plain": [
       "<Figure size 432x288 with 1 Axes>"
      ]
     },
     "metadata": {
      "needs_background": "light"
     },
     "output_type": "display_data"
    }
   ],
   "source": [
    "plt.plot(var_x, var_y, 'bx')\n",
    "var_ye = a[0]*var_x + a[1]\n",
    "plt.plot(var_x, var_ye, 'r-') # plotting the linear regression data points"
   ]
  },
  {
   "cell_type": "code",
   "execution_count": null,
   "metadata": {},
   "outputs": [],
   "source": []
  }
 ],
 "metadata": {
  "kernelspec": {
   "display_name": "Python 3",
   "language": "python",
   "name": "python3"
  },
  "language_info": {
   "codemirror_mode": {
    "name": "ipython",
    "version": 3
   },
   "file_extension": ".py",
   "mimetype": "text/x-python",
   "name": "python",
   "nbconvert_exporter": "python",
   "pygments_lexer": "ipython3",
   "version": "3.7.3"
  }
 },
 "nbformat": 4,
 "nbformat_minor": 2
}
